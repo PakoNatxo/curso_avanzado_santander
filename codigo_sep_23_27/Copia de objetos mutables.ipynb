{
 "cells": [
  {
   "cell_type": "code",
   "execution_count": 4,
   "id": "2cf40696",
   "metadata": {},
   "outputs": [],
   "source": [
    "L1 = [3,5,1,2,3,4,5]\n",
    "L2 = L1 #Crea una referencia"
   ]
  },
  {
   "cell_type": "code",
   "execution_count": 3,
   "id": "dc12c924",
   "metadata": {},
   "outputs": [
    {
     "name": "stdout",
     "output_type": "stream",
     "text": [
      "L1 [1000, 5, 1, 2, 3, 4, 5] 2546490278128\n",
      "L2 [1000, 5, 1, 2, 3, 4, 5] 2546490278128\n"
     ]
    }
   ],
   "source": [
    "L1[0] = 1000\n",
    "print(\"L1\",L1, id(1))\n",
    "print(\"L2\",L2, id(1))"
   ]
  },
  {
   "cell_type": "code",
   "execution_count": null,
   "id": "bfcee7ab",
   "metadata": {},
   "outputs": [],
   "source": []
  }
 ],
 "metadata": {
  "kernelspec": {
   "display_name": "Python 3 (ipykernel)",
   "language": "python",
   "name": "python3"
  },
  "language_info": {
   "codemirror_mode": {
    "name": "ipython",
    "version": 3
   },
   "file_extension": ".py",
   "mimetype": "text/x-python",
   "name": "python",
   "nbconvert_exporter": "python",
   "pygments_lexer": "ipython3",
   "version": "3.10.9"
  }
 },
 "nbformat": 4,
 "nbformat_minor": 5
}
