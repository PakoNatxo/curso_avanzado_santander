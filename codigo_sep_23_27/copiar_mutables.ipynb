{
 "cells": [
  {
   "cell_type": "markdown",
   "id": "6bcc895d",
   "metadata": {},
   "source": [
    "## Copia de objetos mutables"
   ]
  },
  {
   "cell_type": "code",
   "execution_count": 5,
   "id": "d97cd558",
   "metadata": {},
   "outputs": [
    {
     "name": "stdout",
     "output_type": "stream",
     "text": [
      "L1 [1000, 5, 1, 2, 3, 4, 5, 99] 1286975756224\n",
      "L2 [1000, 5, 1, 2, 3, 4, 5, 99] 1286975756224\n"
     ]
    }
   ],
   "source": [
    "L1 = [3,5,1,2,3,4,5]\n",
    "L2 = L1  # Se crea una referencia\n",
    "L1[0] = 1000\n",
    "L1.append(99)\n",
    "print(\"L1\",L1, id(L1))\n",
    "print(\"L2\",L2, id(L2))"
   ]
  },
  {
   "cell_type": "code",
   "execution_count": 6,
   "id": "c1dfaa4e",
   "metadata": {},
   "outputs": [
    {
     "name": "stdout",
     "output_type": "stream",
     "text": [
      "L1 [1000, 5, 1, 2, 3, 4, 5, 99] 1286975756160\n",
      "L2 [3, 5, 1, 2, 3, 4, 5] 1286975137856\n"
     ]
    }
   ],
   "source": [
    "L1 = [3,5,1,2,3,4,5]\n",
    "L2 = L1.copy()  # Copia superficial\n",
    "L1[0] = 1000\n",
    "L1.append(99)\n",
    "print(\"L1\",L1, id(L1))\n",
    "print(\"L2\",L2, id(L2))"
   ]
  },
  {
   "cell_type": "code",
   "execution_count": 3,
   "id": "836d8585",
   "metadata": {},
   "outputs": [
    {
     "name": "stdout",
     "output_type": "stream",
     "text": [
      "L1 [1000, [2, 3, 4, 5, 999]] 1286975059968\n",
      "L2 [[3, 5, 1], [2, 3, 4, 5, 999]] 1286975139328\n"
     ]
    }
   ],
   "source": [
    "# Ojo si la lista es de objetos mutables:\n",
    "L1 = [[3,5,1],[2,3,4,5]]\n",
    "L2 = L1.copy()  # Copia superficial\n",
    "L1[0] = 1000\n",
    "L1[-1].append(999)\n",
    "print(\"L1\",L1, id(L1))\n",
    "print(\"L2\",L2, id(L2))"
   ]
  },
  {
   "cell_type": "code",
   "execution_count": 7,
   "id": "913bb09f",
   "metadata": {},
   "outputs": [
    {
     "name": "stdout",
     "output_type": "stream",
     "text": [
      "L1 [1000, [2, 3, 4, 5, 999]] 1286975589504\n",
      "L2 [[3, 5, 1], [2, 3, 4, 5]] 1286975036800\n"
     ]
    }
   ],
   "source": [
    "import copy\n",
    "L1 = [[3,5,1],[2,3,4,5]]\n",
    "L2 = copy.deepcopy(L1)  # Copia superficial\n",
    "L1[0] = 1000\n",
    "L1[-1].append(999)\n",
    "print(\"L1\",L1, id(L1))\n",
    "print(\"L2\",L2, id(L2))"
   ]
  },
  {
   "cell_type": "code",
   "execution_count": null,
   "id": "dc706f3b",
   "metadata": {},
   "outputs": [],
   "source": []
  }
 ],
 "metadata": {
  "kernelspec": {
   "display_name": "Python 3 (ipykernel)",
   "language": "python",
   "name": "python3"
  },
  "language_info": {
   "codemirror_mode": {
    "name": "ipython",
    "version": 3
   },
   "file_extension": ".py",
   "mimetype": "text/x-python",
   "name": "python",
   "nbconvert_exporter": "python",
   "pygments_lexer": "ipython3",
   "version": "3.8.5"
  }
 },
 "nbformat": 4,
 "nbformat_minor": 5
}
