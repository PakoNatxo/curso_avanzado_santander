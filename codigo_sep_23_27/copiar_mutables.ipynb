{
 "cells": [
  {
   "cell_type": "markdown",
   "id": "b02f630f",
   "metadata": {},
   "source": [
    "## Copia de objetos mutables"
   ]
  },
  {
   "cell_type": "code",
   "execution_count": 1,
   "id": "c84551b1",
   "metadata": {},
   "outputs": [
    {
     "name": "stdout",
     "output_type": "stream",
     "text": [
      "L1 [1000, 5, 1, 2, 3, 4, 5] 1286974857920\n",
      "L2 [1000, 5, 1, 2, 3, 4, 5] 1286974857920\n"
     ]
    }
   ],
   "source": [
    "L1 = [3,5,1,2,3,4,5]\n",
    "L2 = L1  # Se crea una referencia\n",
    "L1[0] = 1000\n",
    "print(\"L1\",L1, id(L1))\n",
    "print(\"L2\",L2, id(L2))"
   ]
  },
  {
   "cell_type": "code",
   "execution_count": 2,
   "id": "d01c49d1",
   "metadata": {},
   "outputs": [
    {
     "name": "stdout",
     "output_type": "stream",
     "text": [
      "L1 [1000, 5, 1, 2, 3, 4, 5] 1286975061568\n",
      "L2 [3, 5, 1, 2, 3, 4, 5] 1286975062528\n"
     ]
    }
   ],
   "source": [
    "L1 = [3,5,1,2,3,4,5]\n",
    "L2 = L1.copy()  # Copia superficial\n",
    "L1[0] = 1000\n",
    "print(\"L1\",L1, id(L1))\n",
    "print(\"L2\",L2, id(L2))"
   ]
  },
  {
   "cell_type": "code",
   "execution_count": 3,
   "id": "e9b3eaef",
   "metadata": {},
   "outputs": [
    {
     "name": "stdout",
     "output_type": "stream",
     "text": [
      "L1 [1000, [2, 3, 4, 5, 999]] 1286975059968\n",
      "L2 [[3, 5, 1], [2, 3, 4, 5, 999]] 1286975139328\n"
     ]
    }
   ],
   "source": [
    "# Ojo si la lista es de objetos mutables:\n",
    "L1 = [[3,5,1],[2,3,4,5]]\n",
    "L2 = L1.copy()  # Copia superficial\n",
    "L1[0] = 1000\n",
    "L1[-1].append(999)\n",
    "print(\"L1\",L1, id(L1))\n",
    "print(\"L2\",L2, id(L2))"
   ]
  },
  {
   "cell_type": "code",
   "execution_count": null,
   "id": "5921c3b6",
   "metadata": {},
   "outputs": [],
   "source": []
  }
 ],
 "metadata": {
  "kernelspec": {
   "display_name": "Python 3 (ipykernel)",
   "language": "python",
   "name": "python3"
  },
  "language_info": {
   "codemirror_mode": {
    "name": "ipython",
    "version": 3
   },
   "file_extension": ".py",
   "mimetype": "text/x-python",
   "name": "python",
   "nbconvert_exporter": "python",
   "pygments_lexer": "ipython3",
   "version": "3.8.5"
  }
 },
 "nbformat": 4,
 "nbformat_minor": 5
}
