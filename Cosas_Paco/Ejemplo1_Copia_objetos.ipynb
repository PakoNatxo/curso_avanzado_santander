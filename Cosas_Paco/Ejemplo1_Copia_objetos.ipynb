{
 "cells": [
  {
   "cell_type": "code",
   "execution_count": 15,
   "id": "fb31e45c",
   "metadata": {},
   "outputs": [
    {
     "name": "stdout",
     "output_type": "stream",
     "text": [
      "L1 [1000, 5, 1, 2, 3, 4, 5, 999] 2546490278128\n",
      "L2 [1000, 5, 1, 2, 3, 4, 5, 999] 2546490278128\n"
     ]
    }
   ],
   "source": [
    "L1 = [3,5,1,2,3,4,5]\n",
    "L2 = L1 #Crea una referencia\n",
    "L1[0] = 1000\n",
    "L1.append(999)\n",
    "print(\"L1\",L1, id(1))\n",
    "print(\"L2\",L2, id(1))"
   ]
  },
  {
   "cell_type": "code",
   "execution_count": 19,
   "id": "98afe650",
   "metadata": {},
   "outputs": [
    {
     "name": "stdout",
     "output_type": "stream",
     "text": [
      "L1 [1000, 5, 1, 2, 3, 4, 5, 999] 2546490278128\n",
      "L2 [3, 5, 1, 2, 3, 4, 5] 2546490278128\n"
     ]
    }
   ],
   "source": [
    "L1 = [3,5,1,2,3,4,5]\n",
    "L2 = L1.copy() #Copia superficial\n",
    "L1[0] = 1000\n",
    "L1.append(999)\n",
    "print(\"L1\",L1, id(1))\n",
    "print(\"L2\",L2, id(1))"
   ]
  },
  {
   "cell_type": "code",
   "execution_count": 9,
   "id": "5105127d",
   "metadata": {},
   "outputs": [
    {
     "name": "stdout",
     "output_type": "stream",
     "text": [
      "L1 [1000, [2, 3, 4, 5, 999]] 2546490278128\n",
      "L2 [[3, 5, 1], [2, 3, 4, 5, 999]] 2546490278128\n"
     ]
    }
   ],
   "source": [
    "L1 = [[3,5,1],[2,3,4,5]]\n",
    "L2 = L1.copy() #Copia superficial\n",
    "L1[0] = 1000\n",
    "L1[-1].append(999)\n",
    "print(\"L1\",L1, id(1))\n",
    "print(\"L2\",L2, id(1))"
   ]
  },
  {
   "cell_type": "code",
   "execution_count": 21,
   "id": "f5824976",
   "metadata": {},
   "outputs": [
    {
     "name": "stdout",
     "output_type": "stream",
     "text": [
      "L1 [1000, [2, 3, 4, 5, 999]] 2546490278128\n",
      "L2 [[3, 5, 1], [2, 3, 4, 5]] 2546490278128\n"
     ]
    }
   ],
   "source": [
    "import copy\n",
    "L1 = [[3,5,1],[2,3,4,5]]\n",
    "L2 = copy.deepcopy(L1) #Copia profunda\n",
    "L1[0] = 1000\n",
    "L1[-1].append(999)\n",
    "print(\"L1\",L1, id(1))\n",
    "print(\"L2\",L2, id(1))"
   ]
  },
  {
   "cell_type": "code",
   "execution_count": null,
   "id": "5eec6d26",
   "metadata": {},
   "outputs": [],
   "source": []
  },
  {
   "cell_type": "code",
   "execution_count": null,
   "id": "f0c1abe4",
   "metadata": {},
   "outputs": [],
   "source": []
  }
 ],
 "metadata": {
  "kernelspec": {
   "display_name": "Python 3 (ipykernel)",
   "language": "python",
   "name": "python3"
  },
  "language_info": {
   "codemirror_mode": {
    "name": "ipython",
    "version": 3
   },
   "file_extension": ".py",
   "mimetype": "text/x-python",
   "name": "python",
   "nbconvert_exporter": "python",
   "pygments_lexer": "ipython3",
   "version": "3.10.9"
  }
 },
 "nbformat": 4,
 "nbformat_minor": 5
}
